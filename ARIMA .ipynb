{
 "cells": [
  {
   "cell_type": "code",
   "execution_count": null,
   "id": "b49152a7",
   "metadata": {},
   "outputs": [],
   "source": [
    "import os\n",
    "import pandas as pd\n",
    "from glob import glob\n",
    "import numpy as np\n",
    "import random\n",
    "from pmdarima import auto_arima\n",
    "from sklearn.metrics import mean_absolute_error, mean_squared_error, r2_score\n"
   ]
  },
  {
   "cell_type": "code",
   "execution_count": null,
   "id": "e3c4cac3",
   "metadata": {},
   "outputs": [],
   "source": [
    "import pandas as pd\n",
    "import numpy as np\n",
    "from pmdarima import auto_arima\n",
    "from sklearn.metrics import mean_absolute_error, mean_squared_error, r2_score\n",
    "\n",
    "# Loop through each dataset in new_dict\n",
    "for filename, df_selected in new_dict.items():\n",
    "    print(f\"Processing {filename}...\")\n",
    "\n",
    "    # Ensure datetime index\n",
    "    df_selected.index = pd.to_datetime(df_selected.index)\n",
    "\n",
    "    # Define rolling window parameters\n",
    "    train_window = pd.Timedelta(days=60)  \n",
    "    predict_horizon = pd.Timedelta(days=1) \n",
    "\n",
    "    # Initialize lists to store results\n",
    "    arima_params = []\n",
    "    errors = []\n",
    "    predictions_list = []\n",
    "    actual_values_list = []\n",
    "    dates = []\n",
    "\n",
    "\n",
    "    date_start = df_selected.index.min()\n",
    "    date_end = df_selected.index.max()\n",
    "    current_start = date_start\n",
    "    iteration = 1\n",
    "\n",
    "    while current_start + train_window + predict_horizon <= date_end:\n",
    "        # Define training and prediction windows\n",
    "        train_end = current_start + train_window - predict_horizon \n",
    "        predict_start = train_end + predict_horizon \n",
    "\n",
    "        print(f\"Iteration {iteration}: Training from {current_start.date()} to {train_end.date()}, Predicting {predict_start.date()}\")\n",
    "\n",
    "        train_data = df_selected.loc[current_start:train_end]\n",
    "\n",
    "        # Fit Auto ARIMA\n",
    "        model = auto_arima(train_data,\n",
    "                           seasonal=False,\n",
    "                           d=None,\n",
    "                           start_p=0, max_p=10,\n",
    "                           start_q=0, max_q=10,\n",
    "                           max_order= None,\n",
    "                           max_d=2,\n",
    "                           trace=True,\n",
    "                           n_jobs=10,\n",
    "                           error_action=\"ignore\",\n",
    "                           suppress_warnings=True,\n",
    "                           stepwise=False)\n",
    "\n",
    "        # Make predictions\n",
    "        forecast = model.predict(n_periods=1)\n",
    "\n",
    "\n",
    "        # Move the window forward by one day\n",
    "        current_start += predict_horizon\n",
    "        iteration += 1\n",
    "\n"
   ]
  },
  {
   "cell_type": "code",
   "execution_count": null,
   "id": "8d3ad89d",
   "metadata": {},
   "outputs": [],
   "source": []
  },
  {
   "cell_type": "code",
   "execution_count": null,
   "id": "73cd105a",
   "metadata": {},
   "outputs": [],
   "source": []
  }
 ],
 "metadata": {
  "kernelspec": {
   "display_name": "Python 3 (ipykernel)",
   "language": "python",
   "name": "python3"
  },
  "language_info": {
   "codemirror_mode": {
    "name": "ipython",
    "version": 3
   },
   "file_extension": ".py",
   "mimetype": "text/x-python",
   "name": "python",
   "nbconvert_exporter": "python",
   "pygments_lexer": "ipython3",
   "version": "3.10.7"
  }
 },
 "nbformat": 4,
 "nbformat_minor": 5
}
